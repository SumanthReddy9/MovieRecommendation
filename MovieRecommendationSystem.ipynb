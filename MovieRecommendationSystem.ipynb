{
 "cells": [
  {
   "cell_type": "code",
   "execution_count": 2,
   "metadata": {},
   "outputs": [],
   "source": [
    "import pandas as pd\n",
    "import numpy as np\n",
    "from sklearn.feature_extraction.text import CountVectorizer\n",
    "from sklearn.metrics.pairwise import cosine_similarity"
   ]
  },
  {
   "cell_type": "code",
   "execution_count": 3,
   "metadata": {},
   "outputs": [],
   "source": [
    "def get_title_from_index(index):\n",
    "    return df[df.index == index][\"title\"].values[0]\n",
    "def get_index_from_title(title):\n",
    "    return df[df.title == title][\"index\"].values[0]"
   ]
  },
  {
   "cell_type": "code",
   "execution_count": 4,
   "metadata": {},
   "outputs": [
    {
     "name": "stdout",
     "output_type": "stream",
     "text": [
      "   index     budget                                    genres  \\\n",
      "0      0  237000000  Action Adventure Fantasy Science Fiction   \n",
      "1      1  300000000                  Adventure Fantasy Action   \n",
      "2      2  245000000                    Action Adventure Crime   \n",
      "3      3  250000000               Action Crime Drama Thriller   \n",
      "4      4  260000000          Action Adventure Science Fiction   \n",
      "\n",
      "                                       homepage      id  \\\n",
      "0                   http://www.avatarmovie.com/   19995   \n",
      "1  http://disney.go.com/disneypictures/pirates/     285   \n",
      "2   http://www.sonypictures.com/movies/spectre/  206647   \n",
      "3            http://www.thedarkknightrises.com/   49026   \n",
      "4          http://movies.disney.com/john-carter   49529   \n",
      "\n",
      "                                            keywords original_language  \\\n",
      "0  culture clash future space war space colony so...                en   \n",
      "1  ocean drug abuse exotic island east india trad...                en   \n",
      "2         spy based on novel secret agent sequel mi6                en   \n",
      "3  dc comics crime fighter terrorist secret ident...                en   \n",
      "4  based on novel mars medallion space travel pri...                en   \n",
      "\n",
      "                             original_title  \\\n",
      "0                                    Avatar   \n",
      "1  Pirates of the Caribbean: At World's End   \n",
      "2                                   Spectre   \n",
      "3                     The Dark Knight Rises   \n",
      "4                               John Carter   \n",
      "\n",
      "                                            overview  popularity  ... runtime  \\\n",
      "0  In the 22nd century, a paraplegic Marine is di...  150.437577  ...   162.0   \n",
      "1  Captain Barbossa, long believed to be dead, ha...  139.082615  ...   169.0   \n",
      "2  A cryptic message from Bond’s past sends him o...  107.376788  ...   148.0   \n",
      "3  Following the death of District Attorney Harve...  112.312950  ...   165.0   \n",
      "4  John Carter is a war-weary, former military ca...   43.926995  ...   132.0   \n",
      "\n",
      "                                    spoken_languages    status  \\\n",
      "0  [{\"iso_639_1\": \"en\", \"name\": \"English\"}, {\"iso...  Released   \n",
      "1           [{\"iso_639_1\": \"en\", \"name\": \"English\"}]  Released   \n",
      "2  [{\"iso_639_1\": \"fr\", \"name\": \"Fran\\u00e7ais\"},...  Released   \n",
      "3           [{\"iso_639_1\": \"en\", \"name\": \"English\"}]  Released   \n",
      "4           [{\"iso_639_1\": \"en\", \"name\": \"English\"}]  Released   \n",
      "\n",
      "                                          tagline  \\\n",
      "0                     Enter the World of Pandora.   \n",
      "1  At the end of the world, the adventure begins.   \n",
      "2                           A Plan No One Escapes   \n",
      "3                                 The Legend Ends   \n",
      "4            Lost in our world, found in another.   \n",
      "\n",
      "                                      title vote_average vote_count  \\\n",
      "0                                    Avatar          7.2      11800   \n",
      "1  Pirates of the Caribbean: At World's End          6.9       4500   \n",
      "2                                   Spectre          6.3       4466   \n",
      "3                     The Dark Knight Rises          7.6       9106   \n",
      "4                               John Carter          6.1       2124   \n",
      "\n",
      "                                                cast  \\\n",
      "0  Sam Worthington Zoe Saldana Sigourney Weaver S...   \n",
      "1  Johnny Depp Orlando Bloom Keira Knightley Stel...   \n",
      "2  Daniel Craig Christoph Waltz L\\u00e9a Seydoux ...   \n",
      "3  Christian Bale Michael Caine Gary Oldman Anne ...   \n",
      "4  Taylor Kitsch Lynn Collins Samantha Morton Wil...   \n",
      "\n",
      "                                                crew           director  \n",
      "0  [{'name': 'Stephen E. Rivkin', 'gender': 0, 'd...      James Cameron  \n",
      "1  [{'name': 'Dariusz Wolski', 'gender': 2, 'depa...     Gore Verbinski  \n",
      "2  [{'name': 'Thomas Newman', 'gender': 2, 'depar...         Sam Mendes  \n",
      "3  [{'name': 'Hans Zimmer', 'gender': 2, 'departm...  Christopher Nolan  \n",
      "4  [{'name': 'Andrew Stanton', 'gender': 2, 'depa...     Andrew Stanton  \n",
      "\n",
      "[5 rows x 24 columns]\n"
     ]
    }
   ],
   "source": [
    "df = pd.read_csv(\"movie_dataset.csv\")\n",
    "print(df.head())"
   ]
  },
  {
   "cell_type": "code",
   "execution_count": 5,
   "metadata": {},
   "outputs": [
    {
     "data": {
      "text/html": [
       "<div>\n",
       "<style scoped>\n",
       "    .dataframe tbody tr th:only-of-type {\n",
       "        vertical-align: middle;\n",
       "    }\n",
       "\n",
       "    .dataframe tbody tr th {\n",
       "        vertical-align: top;\n",
       "    }\n",
       "\n",
       "    .dataframe thead th {\n",
       "        text-align: right;\n",
       "    }\n",
       "</style>\n",
       "<table border=\"1\" class=\"dataframe\">\n",
       "  <thead>\n",
       "    <tr style=\"text-align: right;\">\n",
       "      <th></th>\n",
       "      <th>index</th>\n",
       "      <th>budget</th>\n",
       "      <th>id</th>\n",
       "      <th>popularity</th>\n",
       "      <th>revenue</th>\n",
       "      <th>runtime</th>\n",
       "      <th>vote_average</th>\n",
       "      <th>vote_count</th>\n",
       "    </tr>\n",
       "  </thead>\n",
       "  <tbody>\n",
       "    <tr>\n",
       "      <th>count</th>\n",
       "      <td>4803.000000</td>\n",
       "      <td>4.803000e+03</td>\n",
       "      <td>4803.000000</td>\n",
       "      <td>4803.000000</td>\n",
       "      <td>4.803000e+03</td>\n",
       "      <td>4801.000000</td>\n",
       "      <td>4803.000000</td>\n",
       "      <td>4803.000000</td>\n",
       "    </tr>\n",
       "    <tr>\n",
       "      <th>mean</th>\n",
       "      <td>2401.000000</td>\n",
       "      <td>2.904504e+07</td>\n",
       "      <td>57165.484281</td>\n",
       "      <td>21.492301</td>\n",
       "      <td>8.226064e+07</td>\n",
       "      <td>106.875859</td>\n",
       "      <td>6.092172</td>\n",
       "      <td>690.217989</td>\n",
       "    </tr>\n",
       "    <tr>\n",
       "      <th>std</th>\n",
       "      <td>1386.651002</td>\n",
       "      <td>4.072239e+07</td>\n",
       "      <td>88694.614033</td>\n",
       "      <td>31.816650</td>\n",
       "      <td>1.628571e+08</td>\n",
       "      <td>22.611935</td>\n",
       "      <td>1.194612</td>\n",
       "      <td>1234.585891</td>\n",
       "    </tr>\n",
       "    <tr>\n",
       "      <th>min</th>\n",
       "      <td>0.000000</td>\n",
       "      <td>0.000000e+00</td>\n",
       "      <td>5.000000</td>\n",
       "      <td>0.000000</td>\n",
       "      <td>0.000000e+00</td>\n",
       "      <td>0.000000</td>\n",
       "      <td>0.000000</td>\n",
       "      <td>0.000000</td>\n",
       "    </tr>\n",
       "    <tr>\n",
       "      <th>25%</th>\n",
       "      <td>1200.500000</td>\n",
       "      <td>7.900000e+05</td>\n",
       "      <td>9014.500000</td>\n",
       "      <td>4.668070</td>\n",
       "      <td>0.000000e+00</td>\n",
       "      <td>94.000000</td>\n",
       "      <td>5.600000</td>\n",
       "      <td>54.000000</td>\n",
       "    </tr>\n",
       "    <tr>\n",
       "      <th>50%</th>\n",
       "      <td>2401.000000</td>\n",
       "      <td>1.500000e+07</td>\n",
       "      <td>14629.000000</td>\n",
       "      <td>12.921594</td>\n",
       "      <td>1.917000e+07</td>\n",
       "      <td>103.000000</td>\n",
       "      <td>6.200000</td>\n",
       "      <td>235.000000</td>\n",
       "    </tr>\n",
       "    <tr>\n",
       "      <th>75%</th>\n",
       "      <td>3601.500000</td>\n",
       "      <td>4.000000e+07</td>\n",
       "      <td>58610.500000</td>\n",
       "      <td>28.313505</td>\n",
       "      <td>9.291719e+07</td>\n",
       "      <td>118.000000</td>\n",
       "      <td>6.800000</td>\n",
       "      <td>737.000000</td>\n",
       "    </tr>\n",
       "    <tr>\n",
       "      <th>max</th>\n",
       "      <td>4802.000000</td>\n",
       "      <td>3.800000e+08</td>\n",
       "      <td>459488.000000</td>\n",
       "      <td>875.581305</td>\n",
       "      <td>2.787965e+09</td>\n",
       "      <td>338.000000</td>\n",
       "      <td>10.000000</td>\n",
       "      <td>13752.000000</td>\n",
       "    </tr>\n",
       "  </tbody>\n",
       "</table>\n",
       "</div>"
      ],
      "text/plain": [
       "             index        budget             id   popularity       revenue  \\\n",
       "count  4803.000000  4.803000e+03    4803.000000  4803.000000  4.803000e+03   \n",
       "mean   2401.000000  2.904504e+07   57165.484281    21.492301  8.226064e+07   \n",
       "std    1386.651002  4.072239e+07   88694.614033    31.816650  1.628571e+08   \n",
       "min       0.000000  0.000000e+00       5.000000     0.000000  0.000000e+00   \n",
       "25%    1200.500000  7.900000e+05    9014.500000     4.668070  0.000000e+00   \n",
       "50%    2401.000000  1.500000e+07   14629.000000    12.921594  1.917000e+07   \n",
       "75%    3601.500000  4.000000e+07   58610.500000    28.313505  9.291719e+07   \n",
       "max    4802.000000  3.800000e+08  459488.000000   875.581305  2.787965e+09   \n",
       "\n",
       "           runtime  vote_average    vote_count  \n",
       "count  4801.000000   4803.000000   4803.000000  \n",
       "mean    106.875859      6.092172    690.217989  \n",
       "std      22.611935      1.194612   1234.585891  \n",
       "min       0.000000      0.000000      0.000000  \n",
       "25%      94.000000      5.600000     54.000000  \n",
       "50%     103.000000      6.200000    235.000000  \n",
       "75%     118.000000      6.800000    737.000000  \n",
       "max     338.000000     10.000000  13752.000000  "
      ]
     },
     "execution_count": 5,
     "metadata": {},
     "output_type": "execute_result"
    }
   ],
   "source": [
    "df.describe()"
   ]
  },
  {
   "cell_type": "code",
   "execution_count": 6,
   "metadata": {},
   "outputs": [
    {
     "data": {
      "text/plain": [
       "index                                                                4802\n",
       "budget                                                                  0\n",
       "genres                                                        Documentary\n",
       "homepage                                                              NaN\n",
       "id                                                                  25975\n",
       "keywords                             obsession camcorder crush dream girl\n",
       "original_language                                                      en\n",
       "original_title                                          My Date with Drew\n",
       "overview                Ever since the second grade when he first saw ...\n",
       "popularity                                                        1.92988\n",
       "production_companies    [{\"name\": \"rusty bear entertainment\", \"id\": 87...\n",
       "production_countries    [{\"iso_3166_1\": \"US\", \"name\": \"United States o...\n",
       "release_date                                                   2005-08-05\n",
       "revenue                                                                 0\n",
       "runtime                                                                90\n",
       "spoken_languages                 [{\"iso_639_1\": \"en\", \"name\": \"English\"}]\n",
       "status                                                           Released\n",
       "tagline                                                               NaN\n",
       "title                                                   My Date with Drew\n",
       "vote_average                                                          6.3\n",
       "vote_count                                                             16\n",
       "cast                    Drew Barrymore Brian Herzlinger Corey Feldman ...\n",
       "crew                    [{'name': 'Clark Peterson', 'gender': 2, 'depa...\n",
       "director                                                 Brian Herzlinger\n",
       "Name: 4802, dtype: object"
      ]
     },
     "execution_count": 6,
     "metadata": {},
     "output_type": "execute_result"
    }
   ],
   "source": [
    "df.iloc[4802]"
   ]
  },
  {
   "cell_type": "code",
   "execution_count": 7,
   "metadata": {},
   "outputs": [
    {
     "data": {
      "text/plain": [
       "Index(['index', 'budget', 'genres', 'homepage', 'id', 'keywords',\n",
       "       'original_language', 'original_title', 'overview', 'popularity',\n",
       "       'production_companies', 'production_countries', 'release_date',\n",
       "       'revenue', 'runtime', 'spoken_languages', 'status', 'tagline', 'title',\n",
       "       'vote_average', 'vote_count', 'cast', 'crew', 'director'],\n",
       "      dtype='object')"
      ]
     },
     "execution_count": 7,
     "metadata": {},
     "output_type": "execute_result"
    }
   ],
   "source": [
    "df.columns"
   ]
  },
  {
   "cell_type": "code",
   "execution_count": 8,
   "metadata": {},
   "outputs": [
    {
     "data": {
      "text/plain": [
       "(4803, 24)"
      ]
     },
     "execution_count": 8,
     "metadata": {},
     "output_type": "execute_result"
    }
   ],
   "source": [
    "df.shape"
   ]
  },
  {
   "cell_type": "code",
   "execution_count": 9,
   "metadata": {},
   "outputs": [],
   "source": [
    "features = ['keywords', 'cast', 'genres', 'director']\n",
    "for i in features:\n",
    "    df[i] = df[i].fillna('')"
   ]
  },
  {
   "cell_type": "code",
   "execution_count": 10,
   "metadata": {},
   "outputs": [],
   "source": [
    "def combine_features(row):\n",
    "    ans = ''\n",
    "    for i in features:\n",
    "        ans = ans + str(row[str(i)]) + \" \"\n",
    "    return ans"
   ]
  },
  {
   "cell_type": "code",
   "execution_count": 11,
   "metadata": {},
   "outputs": [],
   "source": [
    "df[\"combined_features\"] = df.apply(combine_features, axis = 1)"
   ]
  },
  {
   "cell_type": "code",
   "execution_count": 12,
   "metadata": {},
   "outputs": [
    {
     "data": {
      "text/plain": [
       "' Brendan Fraser Jet Li John Hannah Maria Bello Luke Ford Adventure Action Fantasy Rob Cohen '"
      ]
     },
     "execution_count": 12,
     "metadata": {},
     "output_type": "execute_result"
    }
   ],
   "source": [
    "df['combined_features'][71]"
   ]
  },
  {
   "cell_type": "code",
   "execution_count": 13,
   "metadata": {},
   "outputs": [],
   "source": [
    "cv = CountVectorizer()"
   ]
  },
  {
   "cell_type": "code",
   "execution_count": 14,
   "metadata": {},
   "outputs": [],
   "source": [
    "count_matrix = cv.fit_transform(df['combined_features'])"
   ]
  },
  {
   "cell_type": "code",
   "execution_count": 15,
   "metadata": {},
   "outputs": [],
   "source": [
    "cosine_sim = cosine_similarity(count_matrix)\n"
   ]
  },
  {
   "cell_type": "code",
   "execution_count": 16,
   "metadata": {},
   "outputs": [],
   "source": [
    "def find_movies(movie):\n",
    "    movie_index = get_index_from_title(movie)\n",
    "    similar_movies = list(enumerate(cosine_sim[movie_index]))\n",
    "    sorted_similar_movies = sorted(similar_movies, key = lambda x:x[1], reverse = True)\n",
    "    for i in sorted_similar_movies[1:16]:\n",
    "        print(get_title_from_index(i[0]))"
   ]
  },
  {
   "cell_type": "code",
   "execution_count": 22,
   "metadata": {},
   "outputs": [
    {
     "name": "stdout",
     "output_type": "stream",
     "text": [
      "Guardians of the Galaxy\n",
      "Aliens\n",
      "Star Wars: Clone Wars: Volume 1\n",
      "Star Trek Into Darkness\n",
      "Star Trek Beyond\n",
      "Alien\n",
      "Lockout\n",
      "Jason X\n",
      "The Helix... Loaded\n",
      "Moonraker\n",
      "Planet of the Apes\n",
      "Galaxy Quest\n",
      "Gravity\n",
      "Alien³\n",
      "Jupiter Ascending\n"
     ]
    }
   ],
   "source": [
    "find_movies(\"The Av\")"
   ]
  },
  {
   "cell_type": "code",
   "execution_count": null,
   "metadata": {},
   "outputs": [],
   "source": []
  }
 ],
 "metadata": {
  "kernelspec": {
   "display_name": "Python 3",
   "language": "python",
   "name": "python3"
  },
  "language_info": {
   "codemirror_mode": {
    "name": "ipython",
    "version": 3
   },
   "file_extension": ".py",
   "mimetype": "text/x-python",
   "name": "python",
   "nbconvert_exporter": "python",
   "pygments_lexer": "ipython3",
   "version": "3.7.4"
  }
 },
 "nbformat": 4,
 "nbformat_minor": 2
}
